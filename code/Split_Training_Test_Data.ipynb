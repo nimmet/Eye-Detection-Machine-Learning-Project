{
 "cells": [
  {
   "cell_type": "code",
   "execution_count": 1,
   "id": "48413b51",
   "metadata": {},
   "outputs": [],
   "source": [
    "import cv2\n",
    "import numpy as np\n",
    "import os"
   ]
  },
  {
   "cell_type": "code",
   "execution_count": 2,
   "id": "81b1a859",
   "metadata": {},
   "outputs": [
    {
     "name": "stdout",
     "output_type": "stream",
     "text": [
      " Volume in drive C is BOOTCAMP\n",
      " Volume Serial Number is 0246-9FF7\n",
      "\n",
      " Directory of C:\\Users\\namtu\\Documents\\ML\\Learn_YOLO\\Image_Process\n",
      "\n",
      "04/19/2022  08:49 PM    <DIR>          .\n",
      "04/19/2022  08:49 PM    <DIR>          ..\n",
      "03/09/2022  12:51 PM    <DIR>          .ipynb_checkpoints\n",
      "03/01/2022  08:20 PM             5,533 Behandle_Image.ipynb\n",
      "03/08/2022  11:10 PM    <DIR>          Dataset\n",
      "03/10/2022  07:43 AM    <DIR>          Devided_Images\n",
      "03/09/2022  09:46 PM            33,200 eye_testing.txt\n",
      "03/09/2022  09:45 PM           132,800 eye_training.txt\n",
      "04/19/2022  08:53 PM    <DIR>          Eyeglasses_Dateset\n",
      "04/19/2022  05:56 PM    <DIR>          Eyeglasses_labelled\n",
      "03/08/2022  11:10 PM         1,904,804 Get_Images_From_Different_Folder.ipynb\n",
      "03/09/2022  03:23 PM    <DIR>          images\n",
      "03/08/2022  10:55 PM    <DIR>          LFW\n",
      "04/19/2022  08:46 PM             7,594 Numerate_Image_Dataset.ipynb\n",
      "04/05/2022  02:45 PM             8,206 Split_Training_Test_Data.ipynb\n",
      "04/05/2022  02:45 PM            11,228 test.txt\n",
      "04/05/2022  02:44 PM            42,428 train.txt\n",
      "02/26/2022  08:57 PM           425,198 yolo_pretrained_image.ipynb\n",
      "02/26/2022  08:55 PM           384,917 yolo_pretrained_image-nms.ipynb\n",
      "02/26/2022  09:45 PM            13,004 yolo_pretrained_video.ipynb\n",
      "              11 File(s)      2,968,912 bytes\n",
      "               9 Dir(s)  31,308,869,632 bytes free\n"
     ]
    }
   ],
   "source": [
    "ls"
   ]
  },
  {
   "cell_type": "code",
   "execution_count": 8,
   "id": "6b13537a",
   "metadata": {},
   "outputs": [
    {
     "ename": "TypeError",
     "evalue": "'NoneType' object is not iterable",
     "output_type": "error",
     "traceback": [
      "\u001b[1;31m---------------------------------------------------------------------------\u001b[0m",
      "\u001b[1;31mTypeError\u001b[0m                                 Traceback (most recent call last)",
      "\u001b[1;32m~\\AppData\\Local\\Temp/ipykernel_6324/1154317787.py\u001b[0m in \u001b[0;36m<module>\u001b[1;34m\u001b[0m\n\u001b[0;32m      1\u001b[0m \u001b[0mcount\u001b[0m \u001b[1;33m=\u001b[0m \u001b[1;36m0\u001b[0m\u001b[1;33m;\u001b[0m\u001b[1;33m\u001b[0m\u001b[1;33m\u001b[0m\u001b[0m\n\u001b[0;32m      2\u001b[0m \u001b[0mimageFiles\u001b[0m \u001b[1;33m=\u001b[0m \u001b[1;34mr\"C:\\Users\\namtu\\Documents\\ML\\Learn_YOLO\\Image_Process\\images\"\u001b[0m\u001b[1;33m\u001b[0m\u001b[1;33m\u001b[0m\u001b[0m\n\u001b[1;32m----> 3\u001b[1;33m \u001b[1;32mfor\u001b[0m \u001b[0mi\u001b[0m \u001b[1;32min\u001b[0m \u001b[0mos\u001b[0m\u001b[1;33m.\u001b[0m\u001b[0mchdir\u001b[0m\u001b[1;33m(\u001b[0m\u001b[0mimageFiles\u001b[0m\u001b[1;33m)\u001b[0m\u001b[1;33m:\u001b[0m\u001b[1;33m\u001b[0m\u001b[1;33m\u001b[0m\u001b[0m\n\u001b[0m\u001b[0;32m      4\u001b[0m     \u001b[0mprint\u001b[0m\u001b[1;33m(\u001b[0m\u001b[0mi\u001b[0m\u001b[1;33m)\u001b[0m\u001b[1;33m\u001b[0m\u001b[1;33m\u001b[0m\u001b[0m\n\u001b[0;32m      5\u001b[0m     \u001b[0mcount\u001b[0m \u001b[1;33m+=\u001b[0m\u001b[1;36m1\u001b[0m\u001b[1;33m\u001b[0m\u001b[1;33m\u001b[0m\u001b[0m\n",
      "\u001b[1;31mTypeError\u001b[0m: 'NoneType' object is not iterable"
     ]
    }
   ],
   "source": [
    "count = 0;\n",
    "imageFiles = r\"C:\\Users\\namtu\\Documents\\ML\\Learn_YOLO\\Image_Process\\images\"\n",
    "for i in os.chdir(imageFiles):\n",
    "    print(i)\n",
    "    count +=1\n",
    "    if count==3:\n",
    "        break"
   ]
  },
  {
   "cell_type": "code",
   "execution_count": 8,
   "id": "159411c7",
   "metadata": {},
   "outputs": [],
   "source": [
    "with open(\"train.txt\",'r+') as files:   # Eye glass protection\n",
    "    for i in range(1,419):\n",
    "        files.writelines(f'data/obj/{i}.jpg\\n')\n",
    "    for i in range(524,985):\n",
    "        files.writelines(f'data/obj/{i}.jpg\\n')"
   ]
  },
  {
   "cell_type": "code",
   "execution_count": 9,
   "id": "235cc4fb",
   "metadata": {},
   "outputs": [],
   "source": [
    "with open(\"test.txt\",'r+') as files:\n",
    "    for i in range(419,524):\n",
    "        files.writelines(f'data/obj/{i}.jpg\\n')\n",
    "    for i in range(985,1101):\n",
    "        files.writelines(f'data/obj/{i}.jpg\\n')"
   ]
  },
  {
   "cell_type": "code",
   "execution_count": null,
   "id": "9d75fb62",
   "metadata": {},
   "outputs": [],
   "source": []
  },
  {
   "cell_type": "code",
   "execution_count": 4,
   "id": "7d3b8cac",
   "metadata": {},
   "outputs": [],
   "source": [
    "with open(\"train.txt\",'r+') as files:   # Eye glass protection\n",
    "    for i in range(524,985):\n",
    "        files.writelines(f'data/obj/{i}.jpg\\n')"
   ]
  },
  {
   "cell_type": "code",
   "execution_count": 5,
   "id": "ff4e8b2d",
   "metadata": {},
   "outputs": [],
   "source": [
    "with open(\"test.txt\",'r+') as files:\n",
    "    for i in range(986,1101):\n",
    "        files.writelines(f'data/obj/{i}.jpg\\n')"
   ]
  },
  {
   "cell_type": "code",
   "execution_count": null,
   "id": "3d9ae648",
   "metadata": {},
   "outputs": [],
   "source": []
  },
  {
   "cell_type": "code",
   "execution_count": 10,
   "id": "2014fe2d",
   "metadata": {},
   "outputs": [],
   "source": [
    "with open(\"train.txt\",'r+') as files:\n",
    "    for i in range(1,809):\n",
    "        files.writelines(f'data/obj/{i}.jpg\\n')\n",
    "    for i in range(1010,2610):\n",
    "        files.writelines(f'data/obj/{i}.jpg\\n')"
   ]
  },
  {
   "cell_type": "code",
   "execution_count": 9,
   "id": "f77906d7",
   "metadata": {},
   "outputs": [],
   "source": []
  },
  {
   "cell_type": "code",
   "execution_count": null,
   "id": "2315c169",
   "metadata": {},
   "outputs": [],
   "source": []
  },
  {
   "cell_type": "code",
   "execution_count": null,
   "id": "7c19c924",
   "metadata": {},
   "outputs": [],
   "source": []
  },
  {
   "cell_type": "code",
   "execution_count": null,
   "id": "fef9f499",
   "metadata": {},
   "outputs": [],
   "source": []
  },
  {
   "cell_type": "code",
   "execution_count": 11,
   "id": "95860c3d",
   "metadata": {},
   "outputs": [],
   "source": [
    "with open(\"test.txt\",'r+') as files:\n",
    "    for i in range(809,1010):\n",
    "        files.writelines(f'data/obj/{i}.jpg\\n')\n",
    "    for i in range(2610,3010):\n",
    "        files.writelines(f'data/obj/{i}.jpg\\n')"
   ]
  },
  {
   "cell_type": "code",
   "execution_count": 5,
   "id": "109f8bbc",
   "metadata": {},
   "outputs": [],
   "source": []
  },
  {
   "cell_type": "code",
   "execution_count": null,
   "id": "86a38876",
   "metadata": {},
   "outputs": [],
   "source": []
  },
  {
   "cell_type": "code",
   "execution_count": null,
   "id": "34c88343",
   "metadata": {},
   "outputs": [],
   "source": []
  },
  {
   "cell_type": "code",
   "execution_count": 1,
   "id": "8214a057",
   "metadata": {},
   "outputs": [
    {
     "ename": "FileNotFoundError",
     "evalue": "[Errno 2] No such file or directory: 'eye_training.txt'",
     "output_type": "error",
     "traceback": [
      "\u001b[1;31m---------------------------------------------------------------------------\u001b[0m",
      "\u001b[1;31mFileNotFoundError\u001b[0m                         Traceback (most recent call last)",
      "\u001b[1;32m~\\AppData\\Local\\Temp/ipykernel_6324/1553377400.py\u001b[0m in \u001b[0;36m<module>\u001b[1;34m\u001b[0m\n\u001b[1;32m----> 1\u001b[1;33m \u001b[1;32mwith\u001b[0m \u001b[0mopen\u001b[0m\u001b[1;33m(\u001b[0m\u001b[1;34m\"eye_training.txt\"\u001b[0m\u001b[1;33m,\u001b[0m\u001b[1;34m'r+'\u001b[0m\u001b[1;33m)\u001b[0m \u001b[1;32mas\u001b[0m \u001b[0mfiles\u001b[0m\u001b[1;33m:\u001b[0m\u001b[1;33m\u001b[0m\u001b[1;33m\u001b[0m\u001b[0m\n\u001b[0m\u001b[0;32m      2\u001b[0m     \u001b[1;32mfor\u001b[0m \u001b[0mi\u001b[0m \u001b[1;32min\u001b[0m \u001b[0mrange\u001b[0m\u001b[1;33m(\u001b[0m\u001b[1;36m1\u001b[0m\u001b[1;33m,\u001b[0m\u001b[1;36m809\u001b[0m\u001b[1;33m)\u001b[0m\u001b[1;33m:\u001b[0m\u001b[1;33m\u001b[0m\u001b[1;33m\u001b[0m\u001b[0m\n\u001b[0;32m      3\u001b[0m         \u001b[0mfiles\u001b[0m\u001b[1;33m.\u001b[0m\u001b[0mwritelines\u001b[0m\u001b[1;33m(\u001b[0m\u001b[1;34mf'/content/drive/MyDrive/Yolo_Eye_Detection/darknet/Eye_dataset/eye_images/{i}.jpg\\n'\u001b[0m\u001b[1;33m)\u001b[0m\u001b[1;33m\u001b[0m\u001b[1;33m\u001b[0m\u001b[0m\n",
      "\u001b[1;31mFileNotFoundError\u001b[0m: [Errno 2] No such file or directory: 'eye_training.txt'"
     ]
    }
   ],
   "source": [
    "with open(\"eye_training.txt\",'r+') as files:\n",
    "    for i in range(1,809):\n",
    "        files.writelines(f'/content/drive/MyDrive/Yolo_Eye_Detection/darknet/Eye_dataset/eye_images/{i}.jpg\\n')"
   ]
  },
  {
   "cell_type": "code",
   "execution_count": null,
   "id": "653ab3f6",
   "metadata": {},
   "outputs": [],
   "source": [
    "with open(\"eye_testing.txt\",'r+') as files:\n",
    "    for i in range(809,1010):\n",
    "        files.writelines(f'/content/drive/MyDrive/Yolo_Eye_Detection/darknet/Eye_dataset/eye_images/{i}.jpg\\n')"
   ]
  },
  {
   "cell_type": "code",
   "execution_count": null,
   "id": "5c17556d",
   "metadata": {},
   "outputs": [],
   "source": []
  }
 ],
 "metadata": {
  "kernelspec": {
   "display_name": "Python 3 (ipykernel)",
   "language": "python",
   "name": "python3"
  },
  "language_info": {
   "codemirror_mode": {
    "name": "ipython",
    "version": 3
   },
   "file_extension": ".py",
   "mimetype": "text/x-python",
   "name": "python",
   "nbconvert_exporter": "python",
   "pygments_lexer": "ipython3",
   "version": "3.8.11"
  }
 },
 "nbformat": 4,
 "nbformat_minor": 5
}
