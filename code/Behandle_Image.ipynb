{
 "cells": [
  {
   "cell_type": "code",
   "execution_count": 1,
   "id": "60be29f2",
   "metadata": {},
   "outputs": [],
   "source": [
    "import numpy as np\n",
    "import os\n",
    "import cv2\n",
    "import matplotlib.pyplot as plt\n"
   ]
  },
  {
   "cell_type": "code",
   "execution_count": 2,
   "id": "3556acf7",
   "metadata": {},
   "outputs": [
    {
     "data": {
      "text/plain": [
       "'C:\\\\Users\\\\namtu\\\\Documents\\\\ML\\\\Learn_YOLO\\\\Face_Dataset'"
      ]
     },
     "execution_count": 2,
     "metadata": {},
     "output_type": "execute_result"
    }
   ],
   "source": [
    "pwd"
   ]
  },
  {
   "cell_type": "code",
   "execution_count": 3,
   "id": "2e04284e",
   "metadata": {},
   "outputs": [
    {
     "name": "stdout",
     "output_type": "stream",
     "text": [
      " Volume in drive C is BOOTCAMP\n",
      " Volume Serial Number is 0246-9FF7\n",
      "\n",
      " Directory of C:\\Users\\namtu\\Documents\\ML\\Learn_YOLO\\Face_Dataset\n",
      "\n",
      "03/01/2022  08:08 PM    <DIR>          .\n",
      "03/01/2022  08:08 PM    <DIR>          ..\n",
      "03/01/2022  08:08 PM    <DIR>          .ipynb_checkpoints\n",
      "03/01/2022  08:08 PM                72 Behandle_Image.ipynb\n",
      "03/01/2022  08:04 PM    <DIR>          Eye_data\n",
      "03/01/2022  07:46 PM    <DIR>          originalPics.tar\n",
      "               1 File(s)             72 bytes\n",
      "               5 Dir(s)   2,872,356,864 bytes free\n"
     ]
    }
   ],
   "source": [
    "ls"
   ]
  },
  {
   "cell_type": "code",
   "execution_count": 4,
   "id": "089eb227",
   "metadata": {},
   "outputs": [],
   "source": [
    "imageFile = r'C:\\\\Users\\\\namtu\\\\Documents\\\\ML\\\\Learn_YOLO\\\\Face_Dataset\\\\Eye_data'"
   ]
  },
  {
   "cell_type": "code",
   "execution_count": 14,
   "id": "2561c71c",
   "metadata": {},
   "outputs": [
    {
     "ename": "PermissionError",
     "evalue": "[Errno 13] Permission denied: 'C:\\\\\\\\Users\\\\\\\\namtu\\\\\\\\Documents\\\\\\\\ML\\\\\\\\Learn_YOLO\\\\\\\\Face_Dataset\\\\\\\\Eye_data'",
     "output_type": "error",
     "traceback": [
      "\u001b[1;31m---------------------------------------------------------------------------\u001b[0m",
      "\u001b[1;31mPermissionError\u001b[0m                           Traceback (most recent call last)",
      "\u001b[1;32m~\\AppData\\Local\\Temp/ipykernel_7436/1114964237.py\u001b[0m in \u001b[0;36m<module>\u001b[1;34m\u001b[0m\n\u001b[0;32m      1\u001b[0m \u001b[0mcount\u001b[0m \u001b[1;33m=\u001b[0m \u001b[1;36m0\u001b[0m\u001b[1;33m\u001b[0m\u001b[1;33m\u001b[0m\u001b[0m\n\u001b[1;32m----> 2\u001b[1;33m \u001b[1;32mwith\u001b[0m \u001b[0mopen\u001b[0m\u001b[1;33m(\u001b[0m\u001b[1;34mr'C:\\\\Users\\\\namtu\\\\Documents\\\\ML\\\\Learn_YOLO\\\\Face_Dataset\\\\Eye_data'\u001b[0m\u001b[1;33m,\u001b[0m\u001b[1;34m'r+'\u001b[0m\u001b[1;33m)\u001b[0m \u001b[1;32mas\u001b[0m \u001b[0mimages\u001b[0m\u001b[1;33m:\u001b[0m\u001b[1;33m\u001b[0m\u001b[1;33m\u001b[0m\u001b[0m\n\u001b[0m\u001b[0;32m      3\u001b[0m     \u001b[1;32mfor\u001b[0m \u001b[0mfile\u001b[0m \u001b[1;32min\u001b[0m \u001b[0mimages\u001b[0m\u001b[1;33m:\u001b[0m\u001b[1;33m\u001b[0m\u001b[1;33m\u001b[0m\u001b[0m\n\u001b[0;32m      4\u001b[0m         \u001b[0mplt\u001b[0m\u001b[1;33m.\u001b[0m\u001b[0mimshow\u001b[0m\u001b[1;33m(\u001b[0m\u001b[0mfile\u001b[0m\u001b[1;33m)\u001b[0m\u001b[1;33m\u001b[0m\u001b[1;33m\u001b[0m\u001b[0m\n\u001b[0;32m      5\u001b[0m         \u001b[0mcount\u001b[0m \u001b[1;33m+=\u001b[0m\u001b[1;36m1\u001b[0m\u001b[1;33m\u001b[0m\u001b[1;33m\u001b[0m\u001b[0m\n",
      "\u001b[1;31mPermissionError\u001b[0m: [Errno 13] Permission denied: 'C:\\\\\\\\Users\\\\\\\\namtu\\\\\\\\Documents\\\\\\\\ML\\\\\\\\Learn_YOLO\\\\\\\\Face_Dataset\\\\\\\\Eye_data'"
     ]
    }
   ],
   "source": [
    "count = 0\n",
    "with open(r'C:\\\\Users\\\\namtu\\\\Documents\\\\ML\\\\Learn_YOLO\\\\Face_Dataset\\\\Eye_data','r+') as images:\n",
    "    for file in images:\n",
    "        plt.imshow(file)\n",
    "        count +=1\n",
    "        if count==5:\n",
    "            break"
   ]
  },
  {
   "cell_type": "code",
   "execution_count": 10,
   "id": "e1bf2897",
   "metadata": {},
   "outputs": [
    {
     "ename": "SyntaxError",
     "evalue": "invalid syntax (Temp/ipykernel_7436/1203672398.py, line 1)",
     "output_type": "error",
     "traceback": [
      "\u001b[1;36m  File \u001b[1;32m\"C:\\Users\\namtu\\AppData\\Local\\Temp/ipykernel_7436/1203672398.py\"\u001b[1;36m, line \u001b[1;32m1\u001b[0m\n\u001b[1;33m    chmod +x 'C:\\\\Users\\\\namtu\\\\Documents\\\\ML\\\\Learn_YOLO\\\\Face_Dataset\\\\Eye_data'\u001b[0m\n\u001b[1;37m             ^\u001b[0m\n\u001b[1;31mSyntaxError\u001b[0m\u001b[1;31m:\u001b[0m invalid syntax\n"
     ]
    }
   ],
   "source": [
    "chmod +x 'C:\\\\Users\\\\namtu\\\\Documents\\\\ML\\\\Learn_YOLO\\\\Face_Dataset\\\\Eye_data'"
   ]
  },
  {
   "cell_type": "code",
   "execution_count": null,
   "id": "a656c6a4",
   "metadata": {},
   "outputs": [],
   "source": []
  }
 ],
 "metadata": {
  "kernelspec": {
   "display_name": "Python 3 (ipykernel)",
   "language": "python",
   "name": "python3"
  },
  "language_info": {
   "codemirror_mode": {
    "name": "ipython",
    "version": 3
   },
   "file_extension": ".py",
   "mimetype": "text/x-python",
   "name": "python",
   "nbconvert_exporter": "python",
   "pygments_lexer": "ipython3",
   "version": "3.8.11"
  }
 },
 "nbformat": 4,
 "nbformat_minor": 5
}
