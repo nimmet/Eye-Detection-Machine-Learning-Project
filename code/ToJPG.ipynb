{
 "cells": [
  {
   "cell_type": "code",
   "execution_count": 1,
   "id": "3091de0a",
   "metadata": {},
   "outputs": [],
   "source": [
    "import cv2\n",
    "import os\n",
    "from glob import glob"
   ]
  },
  {
   "cell_type": "code",
   "execution_count": 2,
   "id": "2aeec761",
   "metadata": {},
   "outputs": [],
   "source": [
    "# To change our images from PNG to JPG \n",
    "\n",
    "png = glob(r\"spot_data\\spot_images\\*.png\")\n",
    "\n",
    "for j in png:\n",
    "    print(j)\n",
    "    img = cv2.imread(j)\n",
    "    cv2.imwrite(j[:-3]+\"jpg\",img)\n",
    "    os.remove(j)"
   ]
  },
  {
   "cell_type": "code",
   "execution_count": null,
   "id": "ca48e1b8",
   "metadata": {},
   "outputs": [],
   "source": []
  }
 ],
 "metadata": {
  "kernelspec": {
   "display_name": "Python 3 (ipykernel)",
   "language": "python",
   "name": "python3"
  },
  "language_info": {
   "codemirror_mode": {
    "name": "ipython",
    "version": 3
   },
   "file_extension": ".py",
   "mimetype": "text/x-python",
   "name": "python",
   "nbconvert_exporter": "python",
   "pygments_lexer": "ipython3",
   "version": "3.8.11"
  }
 },
 "nbformat": 4,
 "nbformat_minor": 5
}
