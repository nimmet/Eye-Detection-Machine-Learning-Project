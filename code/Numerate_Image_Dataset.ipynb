{
 "cells": [
  {
   "cell_type": "code",
   "execution_count": 1,
   "id": "3091de0a",
   "metadata": {},
   "outputs": [],
   "source": [
    "import cv2\n",
    "import os\n",
    "from glob import glob"
   ]
  },
  {
   "cell_type": "code",
   "execution_count": 2,
   "id": "4762ce22",
   "metadata": {},
   "outputs": [
    {
     "name": "stdout",
     "output_type": "stream",
     "text": [
      " Volume in drive C is BOOTCAMP\n",
      " Volume Serial Number is 0246-9FF7\n",
      "\n",
      " Directory of C:\\Users\\namtu\\Documents\\ML\\Learn_YOLO\\Image_Process\n",
      "\n",
      "04/19/2022  04:58 PM    <DIR>          .\n",
      "04/19/2022  04:58 PM    <DIR>          ..\n",
      "03/09/2022  12:51 PM    <DIR>          .ipynb_checkpoints\n",
      "03/01/2022  08:20 PM             5,533 Behandle_Image.ipynb\n",
      "03/08/2022  11:10 PM    <DIR>          Dataset\n",
      "03/10/2022  07:43 AM    <DIR>          Devided_Images\n",
      "03/09/2022  09:46 PM            33,200 eye_testing.txt\n",
      "03/09/2022  09:45 PM           132,800 eye_training.txt\n",
      "04/19/2022  04:57 PM    <DIR>          Eyeglasses_Dateset\n",
      "03/08/2022  11:10 PM         1,904,804 Get_Images_From_Different_Folder.ipynb\n",
      "03/09/2022  03:23 PM    <DIR>          images\n",
      "03/08/2022  10:55 PM    <DIR>          LFW\n",
      "04/19/2022  04:58 PM             7,456 Numerate_Image_Dataset.ipynb\n",
      "04/05/2022  02:45 PM             8,206 Split_Training_Test_Data.ipynb\n",
      "04/05/2022  02:45 PM            11,228 test.txt\n",
      "04/05/2022  02:44 PM            42,428 train.txt\n",
      "02/26/2022  08:57 PM           425,198 yolo_pretrained_image.ipynb\n",
      "02/26/2022  08:55 PM           384,917 yolo_pretrained_image-nms.ipynb\n",
      "02/26/2022  09:45 PM            13,004 yolo_pretrained_video.ipynb\n",
      "              11 File(s)      2,968,774 bytes\n",
      "               8 Dir(s)  31,527,247,872 bytes free\n"
     ]
    }
   ],
   "source": [
    "ls"
   ]
  },
  {
   "cell_type": "code",
   "execution_count": 3,
   "id": "4bba2f64",
   "metadata": {},
   "outputs": [
    {
     "name": "stdout",
     "output_type": "stream",
     "text": [
      " Volume in drive C is BOOTCAMP\n",
      " Volume Serial Number is 0246-9FF7\n",
      "\n",
      " Directory of C:\\Users\\namtu\\Documents\\ML\\Learn_YOLO\\Image_Process\n",
      "\n",
      "04/19/2022  04:58 PM    <DIR>          .\n",
      "04/19/2022  04:58 PM    <DIR>          ..\n",
      "03/09/2022  12:51 PM    <DIR>          .ipynb_checkpoints\n",
      "03/01/2022  08:20 PM             5,533 Behandle_Image.ipynb\n",
      "03/08/2022  11:10 PM    <DIR>          Dataset\n",
      "03/10/2022  07:43 AM    <DIR>          Devided_Images\n",
      "03/09/2022  09:46 PM            33,200 eye_testing.txt\n",
      "03/09/2022  09:45 PM           132,800 eye_training.txt\n",
      "04/19/2022  04:57 PM    <DIR>          Eyeglasses_Dateset\n",
      "03/08/2022  11:10 PM         1,904,804 Get_Images_From_Different_Folder.ipynb\n",
      "03/09/2022  03:23 PM    <DIR>          images\n",
      "03/08/2022  10:55 PM    <DIR>          LFW\n",
      "04/19/2022  04:58 PM             7,456 Numerate_Image_Dataset.ipynb\n",
      "04/05/2022  02:45 PM             8,206 Split_Training_Test_Data.ipynb\n",
      "04/05/2022  02:45 PM            11,228 test.txt\n",
      "04/05/2022  02:44 PM            42,428 train.txt\n",
      "02/26/2022  08:57 PM           425,198 yolo_pretrained_image.ipynb\n",
      "02/26/2022  08:55 PM           384,917 yolo_pretrained_image-nms.ipynb\n",
      "02/26/2022  09:45 PM            13,004 yolo_pretrained_video.ipynb\n",
      "              11 File(s)      2,968,774 bytes\n",
      "               8 Dir(s)  31,527,247,872 bytes free\n"
     ]
    }
   ],
   "source": [
    "ls"
   ]
  },
  {
   "cell_type": "code",
   "execution_count": 11,
   "id": "2aeec761",
   "metadata": {},
   "outputs": [],
   "source": [
    "# To change our images from PNG to JPG \n",
    "count = 783\n",
    "jpg = glob(r\"C:/Users/namtu/Documents/ML/Learn_YOLO/Eyeglass\\images\\*.jpg\")\n",
    "\n",
    "for j in jpg:\n",
    "    img = cv2.imread(j)\n",
    "#     img = cv2.cvtColor(img,cv2.COLOR_BGR2RGB)\n",
    "    img = cv2.resize(img,(416,416))\n",
    "    cv2.imwrite(f'{count}'+\".jpg\",img)\n",
    "    count +=1\n",
    "    os.remove(j)\n",
    "#     if count ==3:\n",
    "#         break\n",
    "#     print(j)\n",
    "#     img = cv2.imread(j)\n",
    "#     cv2.imwrite(j[:-3]+\"jpg\",img)\n",
    "#     os.remove(j)"
   ]
  },
  {
   "cell_type": "code",
   "execution_count": 6,
   "id": "ca48e1b8",
   "metadata": {},
   "outputs": [],
   "source": [
    "# count = 1010\n",
    "# jpg = glob(r\"C:\\Users\\namtu\\Documents\\ML\\Learn_YOLO\\Image_Process\\images\\*.jpg\")\n",
    "\n",
    "# for j in jpg:\n",
    "#     img = cv2.imread(j)\n",
    "#     cv2.imwrite(f'{count}'+\".jpg\",img)\n",
    "#     count +=1\n",
    "#     os.remove(j)"
   ]
  },
  {
   "cell_type": "code",
   "execution_count": 10,
   "id": "5ed25ac1",
   "metadata": {},
   "outputs": [
    {
     "name": "stdout",
     "output_type": "stream",
     "text": [
      " Volume in drive C is BOOTCAMP\n",
      " Volume Serial Number is 0246-9FF7\n",
      "\n",
      " Directory of C:\\Users\\namtu\\Documents\\ML\\Learn_YOLO\\Image_Process\\images\n",
      "\n",
      "03/09/2022  03:23 PM    <DIR>          .\n",
      "03/09/2022  03:23 PM    <DIR>          ..\n",
      "               0 File(s)              0 bytes\n",
      "               2 Dir(s)  32,033,763,328 bytes free\n"
     ]
    }
   ],
   "source": [
    "ls"
   ]
  },
  {
   "cell_type": "code",
   "execution_count": 11,
   "id": "ec4a4641",
   "metadata": {},
   "outputs": [
    {
     "name": "stdout",
     "output_type": "stream",
     "text": [
      "C:\\Users\\namtu\\Documents\\ML\\Learn_YOLO\\Image_Process\n"
     ]
    }
   ],
   "source": [
    "cd .."
   ]
  },
  {
   "cell_type": "code",
   "execution_count": 12,
   "id": "21348189",
   "metadata": {},
   "outputs": [],
   "source": [
    "with open(\"eye_training.txt\",'r+') as files:\n",
    "    for i in range(1010,2610):\n",
    "        files.writelines(f'/content/drive/MyDrive/Yolo_Eye_Detection/darknet/Eye_dataset/eye_images/{i}.jpg\\n')"
   ]
  },
  {
   "cell_type": "code",
   "execution_count": null,
   "id": "9f1309ea",
   "metadata": {},
   "outputs": [],
   "source": []
  },
  {
   "cell_type": "code",
   "execution_count": null,
   "id": "619fff33",
   "metadata": {},
   "outputs": [],
   "source": []
  },
  {
   "cell_type": "code",
   "execution_count": 13,
   "id": "adcf336a",
   "metadata": {},
   "outputs": [],
   "source": [
    "with open(\"eye_testing.txt\",'r+') as files:\n",
    "    for i in range(2610,3010):\n",
    "        files.writelines(f'/content/drive/MyDrive/Yolo_Eye_Detection/darknet/Eye_dataset/eye_images/{i}.jpg\\n')"
   ]
  },
  {
   "cell_type": "code",
   "execution_count": null,
   "id": "86d56a66",
   "metadata": {},
   "outputs": [],
   "source": []
  }
 ],
 "metadata": {
  "kernelspec": {
   "display_name": "Python 3 (ipykernel)",
   "language": "python",
   "name": "python3"
  },
  "language_info": {
   "codemirror_mode": {
    "name": "ipython",
    "version": 3
   },
   "file_extension": ".py",
   "mimetype": "text/x-python",
   "name": "python",
   "nbconvert_exporter": "python",
   "pygments_lexer": "ipython3",
   "version": "3.8.11"
  }
 },
 "nbformat": 4,
 "nbformat_minor": 5
}
